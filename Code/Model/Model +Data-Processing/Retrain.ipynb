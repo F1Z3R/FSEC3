{
 "cells": [
  {
   "cell_type": "code",
   "execution_count": 14,
   "id": "9f1a0525",
   "metadata": {},
   "outputs": [],
   "source": [
    "import numpy as np\n",
    "import pandas as pd"
   ]
  },
  {
   "cell_type": "code",
   "execution_count": 15,
   "id": "c99840df",
   "metadata": {},
   "outputs": [],
   "source": [
    "data1 = pd.read_csv('rest.csv')\n",
    "data2 = pd.read_csv('Webattack_combined.csv')\n"
   ]
  },
  {
   "cell_type": "code",
   "execution_count": 16,
   "id": "aa00e536",
   "metadata": {},
   "outputs": [
    {
     "name": "stdout",
     "output_type": "stream",
     "text": [
      "Data dimensions: \n",
      "Data1 -> 1334892 rows, 78 columns\n",
      "Data2 -> 810 rows, 78 columns\n"
     ]
    }
   ],
   "source": [
    "data_list1 = [data1, data2]\n",
    "print('Data dimensions: ')\n",
    "for i, data in enumerate(data_list1, start = 1):\n",
    "  rows, cols = data.shape\n",
    "  print(f'Data{i} -> {rows} rows, {cols} columns')"
   ]
  },
  {
   "cell_type": "code",
   "execution_count": 17,
   "id": "bb3c3ca1",
   "metadata": {},
   "outputs": [
    {
     "name": "stdout",
     "output_type": "stream",
     "text": [
      "New dimension set1:\n",
      "Number of rows: 1335702\n",
      "Number of columns: 78\n",
      "Total cells: 104184756\n"
     ]
    }
   ],
   "source": [
    "data = pd.concat(data_list1)\n",
    "rows, cols = data.shape\n",
    "\n",
    "print('New dimension set1:')\n",
    "print(f'Number of rows: {rows}')\n",
    "print(f'Number of columns: {cols}')\n",
    "print(f'Total cells: {rows * cols}')"
   ]
  },
  {
   "cell_type": "code",
   "execution_count": 19,
   "id": "ec6bcf7d",
   "metadata": {},
   "outputs": [
    {
     "data": {
      "text/plain": [
       "Attack Type\n",
       "BENIGN          1132294\n",
       "DoS              132825\n",
       "Port Scan         59811\n",
       "DDoS               5439\n",
       "Brute Force        4443\n",
       "Web Attck           810\n",
       "Bot                  63\n",
       "Heartbleed           11\n",
       "Infiltration          6\n",
       "Name: count, dtype: int64"
      ]
     },
     "execution_count": 19,
     "metadata": {},
     "output_type": "execute_result"
    }
   ],
   "source": [
    "data['Attack Type'].value_counts()"
   ]
  },
  {
   "cell_type": "code",
   "execution_count": 20,
   "id": "f59c4906",
   "metadata": {},
   "outputs": [
    {
     "data": {
      "text/plain": [
       "Index(['Destination Port', 'Flow Duration', 'Total Fwd Packets',\n",
       "       'Total Backward Packets', 'Total Length of Fwd Packets',\n",
       "       'Total Length of Bwd Packets', 'Fwd Packet Length Max',\n",
       "       'Fwd Packet Length Min', 'Fwd Packet Length Mean',\n",
       "       'Fwd Packet Length Std', 'Bwd Packet Length Max',\n",
       "       'Bwd Packet Length Min', 'Bwd Packet Length Mean',\n",
       "       'Bwd Packet Length Std', 'Flow Bytes/s', 'Flow Packets/s',\n",
       "       'Flow IAT Mean', 'Flow IAT Std', 'Flow IAT Max', 'Flow IAT Min',\n",
       "       'Fwd IAT Total', 'Fwd IAT Mean', 'Fwd IAT Std', 'Fwd IAT Max',\n",
       "       'Fwd IAT Min', 'Bwd IAT Total', 'Bwd IAT Mean', 'Bwd IAT Std',\n",
       "       'Bwd IAT Max', 'Bwd IAT Min', 'Fwd PSH Flags', 'Bwd PSH Flags',\n",
       "       'Fwd URG Flags', 'Bwd URG Flags', 'Fwd Header Length',\n",
       "       'Bwd Header Length', 'Fwd Packets/s', 'Bwd Packets/s',\n",
       "       'Min Packet Length', 'Max Packet Length', 'Packet Length Mean',\n",
       "       'Packet Length Std', 'Packet Length Variance', 'FIN Flag Count',\n",
       "       'SYN Flag Count', 'RST Flag Count', 'PSH Flag Count', 'ACK Flag Count',\n",
       "       'URG Flag Count', 'CWE Flag Count', 'ECE Flag Count', 'Down/Up Ratio',\n",
       "       'Average Packet Size', 'Avg Fwd Segment Size', 'Avg Bwd Segment Size',\n",
       "       'Fwd Avg Bytes/Bulk', 'Fwd Avg Packets/Bulk', 'Fwd Avg Bulk Rate',\n",
       "       'Bwd Avg Bytes/Bulk', 'Bwd Avg Packets/Bulk', 'Bwd Avg Bulk Rate',\n",
       "       'Subflow Fwd Packets', 'Subflow Fwd Bytes', 'Subflow Bwd Packets',\n",
       "       'Subflow Bwd Bytes', 'Init_Win_bytes_forward',\n",
       "       'Init_Win_bytes_backward', 'act_data_pkt_fwd', 'min_seg_size_forward',\n",
       "       'Active Mean', 'Active Std', 'Active Max', 'Active Min', 'Idle Mean',\n",
       "       'Idle Std', 'Idle Max', 'Idle Min', 'Attack Type'],\n",
       "      dtype='object')"
      ]
     },
     "execution_count": 20,
     "metadata": {},
     "output_type": "execute_result"
    }
   ],
   "source": [
    "data.columns"
   ]
  },
  {
   "cell_type": "code",
   "execution_count": 21,
   "id": "e0344f21",
   "metadata": {},
   "outputs": [
    {
     "name": "stdout",
     "output_type": "stream",
     "text": [
      "Number of duplicates: 126604\n"
     ]
    }
   ],
   "source": [
    "dups = data[data.duplicated()]\n",
    "print(f'Number of duplicates: {len(dups)}')"
   ]
  },
  {
   "cell_type": "code",
   "execution_count": 23,
   "id": "40572622",
   "metadata": {},
   "outputs": [
    {
     "data": {
      "text/plain": [
       "(1209098, 78)"
      ]
     },
     "execution_count": 23,
     "metadata": {},
     "output_type": "execute_result"
    }
   ],
   "source": [
    "data.drop_duplicates(inplace = True)\n",
    "data.shape"
   ]
  },
  {
   "cell_type": "code",
   "execution_count": 24,
   "id": "0910974a",
   "metadata": {},
   "outputs": [
    {
     "name": "stdout",
     "output_type": "stream",
     "text": [
      "Flow Bytes/s    182\n",
      "dtype: int64\n"
     ]
    }
   ],
   "source": [
    "missing_val = data.isna().sum()\n",
    "print(missing_val.loc[missing_val > 0])"
   ]
  },
  {
   "cell_type": "code",
   "execution_count": 25,
   "id": "acab7fc3",
   "metadata": {},
   "outputs": [
    {
     "name": "stdout",
     "output_type": "stream",
     "text": [
      "Flow Bytes/s      564\n",
      "Flow Packets/s    746\n",
      "dtype: int64\n"
     ]
    }
   ],
   "source": [
    "# Checking for infinity values\n",
    "numeric_cols = data.select_dtypes(include = np.number).columns\n",
    "inf_count = np.isinf(data[numeric_cols]).sum()\n",
    "print(inf_count[inf_count > 0])"
   ]
  },
  {
   "cell_type": "code",
   "execution_count": 26,
   "id": "e414f715",
   "metadata": {},
   "outputs": [
    {
     "name": "stdout",
     "output_type": "stream",
     "text": [
      "Initial missing values: 182\n",
      "Missing values after processing infinite values: 1492\n"
     ]
    }
   ],
   "source": [
    "# Replacing any infinite values (positive or negative) with NaN (not a number)\n",
    "print(f'Initial missing values: {data.isna().sum().sum()}')\n",
    "\n",
    "data.replace([np.inf, -np.inf], np.nan, inplace = True)\n",
    "\n",
    "print(f'Missing values after processing infinite values: {data.isna().sum().sum()}')"
   ]
  },
  {
   "cell_type": "code",
   "execution_count": 27,
   "id": "11163566",
   "metadata": {},
   "outputs": [
    {
     "name": "stdout",
     "output_type": "stream",
     "text": [
      "Flow Bytes/s      746\n",
      "Flow Packets/s    746\n",
      "dtype: int64\n"
     ]
    }
   ],
   "source": [
    "missing = data.isna().sum()\n",
    "print(missing.loc[missing > 0])"
   ]
  },
  {
   "cell_type": "code",
   "execution_count": 28,
   "id": "8fc3af9f",
   "metadata": {},
   "outputs": [
    {
     "name": "stdout",
     "output_type": "stream",
     "text": [
      "                Missing Values  Percentage of Total Values\n",
      "Flow Bytes/s               746                        0.06\n",
      "Flow Packets/s             746                        0.06\n"
     ]
    }
   ],
   "source": [
    "# Calculating missing value percentage in the dataset\n",
    "mis_per = (missing / len(data)) * 100\n",
    "mis_table = pd.concat([missing, mis_per.round(2)], axis = 1)\n",
    "mis_table = mis_table.rename(columns = {0 : 'Missing Values', 1 : 'Percentage of Total Values'})\n",
    "\n",
    "print(mis_table.loc[mis_per > 0])"
   ]
  },
  {
   "cell_type": "code",
   "execution_count": null,
   "id": "022a9c6f",
   "metadata": {},
   "outputs": [
    {
     "name": "stdout",
     "output_type": "stream",
     "text": [
      "Median of Flow Bytes/s:  4616.6450675\n",
      "Median of Flow Packets/s:  127.1213373165\n"
     ]
    }
   ],
   "source": [
    "med_flow_bytes = data['Flow Bytes/s'].median()\n",
    "med_flow_packets = data['Flow Packets/s'].median()\n",
    "\n",
    "print('Median of Flow Bytes/s: ', med_flow_bytes)\n",
    "print('Median of Flow Packets/s: ', med_flow_packets)"
   ]
  },
  {
   "cell_type": "code",
   "execution_count": 30,
   "id": "6de75789",
   "metadata": {},
   "outputs": [
    {
     "name": "stderr",
     "output_type": "stream",
     "text": [
      "C:\\Users\\HP\\AppData\\Local\\Temp\\ipykernel_27224\\1818654804.py:2: FutureWarning: A value is trying to be set on a copy of a DataFrame or Series through chained assignment using an inplace method.\n",
      "The behavior will change in pandas 3.0. This inplace method will never work because the intermediate object on which we are setting values always behaves as a copy.\n",
      "\n",
      "For example, when doing 'df[col].method(value, inplace=True)', try using 'df.method({col: value}, inplace=True)' or df[col] = df[col].method(value) instead, to perform the operation inplace on the original object.\n",
      "\n",
      "\n",
      "  data['Flow Bytes/s'].fillna(med_flow_bytes, inplace = True)\n",
      "C:\\Users\\HP\\AppData\\Local\\Temp\\ipykernel_27224\\1818654804.py:3: FutureWarning: A value is trying to be set on a copy of a DataFrame or Series through chained assignment using an inplace method.\n",
      "The behavior will change in pandas 3.0. This inplace method will never work because the intermediate object on which we are setting values always behaves as a copy.\n",
      "\n",
      "For example, when doing 'df[col].method(value, inplace=True)', try using 'df.method({col: value}, inplace=True)' or df[col] = df[col].method(value) instead, to perform the operation inplace on the original object.\n",
      "\n",
      "\n",
      "  data['Flow Packets/s'].fillna(med_flow_packets, inplace = True)\n"
     ]
    }
   ],
   "source": [
    "# Filling missing values with median\n",
    "data['Flow Bytes/s'].fillna(med_flow_bytes, inplace = True)\n",
    "data['Flow Packets/s'].fillna(med_flow_packets, inplace = True)"
   ]
  },
  {
   "cell_type": "code",
   "execution_count": 31,
   "id": "5e3428db",
   "metadata": {},
   "outputs": [
    {
     "data": {
      "text/plain": [
       "['Bwd URG Flags',\n",
       " 'Fwd Avg Bytes/Bulk',\n",
       " 'Fwd Avg Packets/Bulk',\n",
       " 'Fwd Avg Bulk Rate',\n",
       " 'Bwd Avg Bytes/Bulk',\n",
       " 'Bwd Avg Packets/Bulk',\n",
       " 'Bwd Avg Bulk Rate']"
      ]
     },
     "execution_count": 31,
     "metadata": {},
     "output_type": "execute_result"
    }
   ],
   "source": [
    "# Checking for columns with zero standard deviation (the blank squares in the heatmap)\n",
    "std = data.std(numeric_only = True)\n",
    "zero_std_cols = std[std == 0].index.tolist()\n",
    "zero_std_cols"
   ]
  },
  {
   "cell_type": "code",
   "execution_count": 32,
   "id": "983a76fe",
   "metadata": {},
   "outputs": [
    {
     "name": "stdout",
     "output_type": "stream",
     "text": [
      "Dropped columns:\n"
     ]
    },
    {
     "data": {
      "text/plain": [
       "Index(['Bwd URG Flags', 'Fwd Avg Bytes/Bulk', 'Fwd Avg Packets/Bulk',\n",
       "       'Fwd Avg Bulk Rate', 'Bwd Avg Bytes/Bulk', 'Bwd Avg Packets/Bulk',\n",
       "       'Bwd Avg Bulk Rate'],\n",
       "      dtype='object')"
      ]
     },
     "execution_count": 32,
     "metadata": {},
     "output_type": "execute_result"
    }
   ],
   "source": [
    "# Dropping columns with only one unique value\n",
    "num_unique = data.nunique()\n",
    "one_variable = num_unique[num_unique == 1]\n",
    "not_one_variable = num_unique[num_unique > 1].index\n",
    "\n",
    "dropped_cols = one_variable.index\n",
    "data = data[not_one_variable]\n",
    "\n",
    "print('Dropped columns:')\n",
    "dropped_cols"
   ]
  },
  {
   "cell_type": "code",
   "execution_count": 33,
   "id": "319cff27",
   "metadata": {},
   "outputs": [
    {
     "data": {
      "text/plain": [
       "(1209098, 71)"
      ]
     },
     "execution_count": 33,
     "metadata": {},
     "output_type": "execute_result"
    }
   ],
   "source": [
    "data.shape"
   ]
  },
  {
   "cell_type": "code",
   "execution_count": null,
   "id": "c6a57434",
   "metadata": {},
   "outputs": [],
   "source": [
    "from sklearn.preprocessing import StandardScaler\n",
    "from sklearn.decomposition import IncrementalPCA\n",
    "import pandas as pd\n",
    "import numpy as np\n",
    "\n",
    "# === 1. Separate features and labels ===\n",
    "features = data.drop('Attack Type', axis=1)\n",
    "attacks = data['Attack Type']\n",
    "\n",
    "# === 2. Standardize the features ===\n",
    "scaler = StandardScaler()\n",
    "scaled_features = scaler.fit_transform(features)\n",
    "\n",
    "# === 3. Apply Incremental PCA ===\n",
    "size = len(features.columns) // 2  # Keep 50% of features\n",
    "ipca = IncrementalPCA(n_components=size, batch_size=500)\n",
    "\n",
    "# Train PCA incrementally on batches\n",
    "for batch in np.array_split(scaled_features, max(1, len(scaled_features) // 500)):\n",
    "    ipca.partial_fit(batch)\n",
    "\n",
    "print(f'Information retained: {sum(ipca.explained_variance_ratio_):.2%}')\n",
    "\n",
    "# === 4. Transform the scaled features ===\n",
    "transformed_features = ipca.transform(scaled_features)\n",
    "\n",
    "# === 5. Create DataFrame with PCA components and attach labels ===\n",
    "new_data = pd.DataFrame(transformed_features, columns=[f'PC{i+1}' for i in range(size)])\n",
    "new_data['Attack Type'] = attacks.values\n"
   ]
  },
  {
   "cell_type": "code",
   "execution_count": 52,
   "id": "2edb733a",
   "metadata": {},
   "outputs": [
    {
     "data": {
      "text/plain": [
       "Attack Type\n",
       "BENIGN          1056446\n",
       "DoS               99420\n",
       "Port Scan         44464\n",
       "DDoS               5438\n",
       "Brute Force        2440\n",
       "Web Attck           810\n",
       "Bot                  63\n",
       "Heartbleed           11\n",
       "Infiltration          6\n",
       "Name: count, dtype: int64"
      ]
     },
     "execution_count": 52,
     "metadata": {},
     "output_type": "execute_result"
    }
   ],
   "source": [
    "new_data['Attack Type'].value_counts()"
   ]
  },
  {
   "cell_type": "code",
   "execution_count": null,
   "id": "77393aef",
   "metadata": {},
   "outputs": [
    {
     "name": "stdout",
     "output_type": "stream",
     "text": [
      "Prediction\n",
      "BENIGN       1500\n",
      "DoS          1500\n",
      "Port Scan    1500\n",
      "DDoS         1500\n",
      "Web Attck     810\n",
      "Name: count, dtype: int64\n",
      "[INFO] Saved processed dataset to Model/FP.csv\n"
     ]
    }
   ],
   "source": [
    "class_counts = new_data['Attack Type'].value_counts()\n",
    "\n",
    "# Only keep classes with more than 10000 samples\n",
    "selected_classes = class_counts[class_counts > 500]\n",
    "class_names = selected_classes.index\n",
    "\n",
    "# Keep only rows with those selected classes\n",
    "selected = new_data[new_data['Attack Type'].isin(class_names)]\n",
    "\n",
    "dfs = []\n",
    "for name in class_names:\n",
    "    df = selected[selected['Attack Type'] == name]\n",
    "    \n",
    "    # Sample only if there are more than 10000 records\n",
    "    if len(df) > 1500:\n",
    "        df = df.sample(n=1500, random_state=0)\n",
    "    \n",
    "    dfs.append(df)\n",
    "\n",
    "# Combine all sampled data\n",
    "df = pd.concat(dfs, ignore_index=True)\n",
    "\n",
    "df.drop(df[df[\"Attack Type\"] == \"Brute Force\"].index, inplace=True)\n",
    "\n",
    "# Show the final class distribution\n",
    "df['Attack Type'].value_counts()\n",
    "new_data.rename(columns={'Attack Type': 'Prediction'}, inplace=True)\n",
    "\n",
    "# Save to FP.csv\n",
    "output_path = \"Model/FP.csv\"\n",
    "df.to_csv(output_path, index=False)\n",
    "print(f\"[INFO] Saved processed dataset to {output_path}\")"
   ]
  },
  {
   "cell_type": "code",
   "execution_count": 38,
   "id": "51d8fdd3",
   "metadata": {},
   "outputs": [
    {
     "data": {
      "text/plain": [
       "Attack Type\n",
       "Web Attck    1500\n",
       "BENIGN       1500\n",
       "DDoS         1500\n",
       "Port Scan    1500\n",
       "DoS          1500\n",
       "Name: count, dtype: int64"
      ]
     },
     "execution_count": 38,
     "metadata": {},
     "output_type": "execute_result"
    }
   ],
   "source": [
    "from imblearn.over_sampling import SMOTE\n",
    "\n",
    "X = df.drop('Attack Type', axis=1)\n",
    "y = df['Attack Type']\n",
    "\n",
    "smote = SMOTE(sampling_strategy='auto', random_state=0)\n",
    "X_upsampled, y_upsampled = smote.fit_resample(X, y)\n",
    "\n",
    "blnc_data = pd.DataFrame(X_upsampled)\n",
    "blnc_data['Attack Type'] = y_upsampled\n",
    "blnc_data = blnc_data.sample(frac=1)\n",
    "\n",
    "blnc_data['Attack Type'].value_counts()"
   ]
  },
  {
   "cell_type": "code",
   "execution_count": 42,
   "id": "b2e4d75a",
   "metadata": {},
   "outputs": [],
   "source": [
    "from sklearn.model_selection import train_test_split\n",
    "\n",
    "\n",
    "features = blnc_data.drop('Attack Type', axis = 1)\n",
    "labels = blnc_data['Attack Type']\n",
    "\n",
    "X_train, X_test, y_train, y_test = train_test_split(features, labels, test_size = 0.25, random_state = 0)"
   ]
  },
  {
   "cell_type": "code",
   "execution_count": 43,
   "id": "011a36b7",
   "metadata": {},
   "outputs": [],
   "source": [
    "import xgboost as xgb\n",
    "from sklearn.preprocessing import LabelEncoder\n",
    "from sklearn.metrics import accuracy_score, classification_report\n",
    "import numpy as np\n",
    "\n",
    "# === Simulate new incremental batch ===\n",
    "X_train, X_train_new, y_train, y_train_new = train_test_split(\n",
    "    X_train, y_train, test_size=0.2, random_state=42\n",
    ")\n",
    "\n",
    "# === Label Encoding ===\n",
    "le = LabelEncoder()\n",
    "y_train_encoded = le.fit_transform(y_train)\n",
    "y_test_encoded = le.transform(y_test)\n",
    "y_train_new_encoded = le.transform(y_train_new)\n",
    "\n",
    "# === DMatrix ===\n",
    "dtrain = xgb.DMatrix(X_train, label=y_train_encoded)\n",
    "dtrain_new = xgb.DMatrix(X_train_new, label=y_train_new_encoded)\n",
    "dtest = xgb.DMatrix(X_test, label=y_test_encoded)\n"
   ]
  },
  {
   "cell_type": "code",
   "execution_count": 44,
   "id": "550f7cc7",
   "metadata": {},
   "outputs": [
    {
     "name": "stdout",
     "output_type": "stream",
     "text": [
      "[0]\ttrain-mlogloss:1.16419\n",
      "[1]\ttrain-mlogloss:0.89652\n",
      "[2]\ttrain-mlogloss:0.70836\n",
      "[3]\ttrain-mlogloss:0.56808\n",
      "[4]\ttrain-mlogloss:0.45987\n",
      "[5]\ttrain-mlogloss:0.37456\n",
      "[6]\ttrain-mlogloss:0.30607\n",
      "[7]\ttrain-mlogloss:0.25141\n",
      "[8]\ttrain-mlogloss:0.20713\n",
      "[9]\ttrain-mlogloss:0.17184\n",
      "[10]\ttrain-mlogloss:0.14297\n",
      "[11]\ttrain-mlogloss:0.11879\n",
      "[12]\ttrain-mlogloss:0.09875\n",
      "[13]\ttrain-mlogloss:0.08279\n",
      "[14]\ttrain-mlogloss:0.06919\n",
      "[15]\ttrain-mlogloss:0.05812\n",
      "[16]\ttrain-mlogloss:0.04909\n",
      "[17]\ttrain-mlogloss:0.04149\n",
      "[18]\ttrain-mlogloss:0.03520\n",
      "[19]\ttrain-mlogloss:0.03014\n",
      "[20]\ttrain-mlogloss:0.02594\n",
      "[21]\ttrain-mlogloss:0.02234\n",
      "[22]\ttrain-mlogloss:0.01940\n",
      "[23]\ttrain-mlogloss:0.01687\n",
      "[24]\ttrain-mlogloss:0.01476\n",
      "[25]\ttrain-mlogloss:0.01292\n",
      "[26]\ttrain-mlogloss:0.01135\n",
      "[27]\ttrain-mlogloss:0.01002\n",
      "[28]\ttrain-mlogloss:0.00892\n",
      "[29]\ttrain-mlogloss:0.00802\n",
      "[30]\ttrain-mlogloss:0.00716\n",
      "[31]\ttrain-mlogloss:0.00651\n",
      "[32]\ttrain-mlogloss:0.00590\n",
      "[33]\ttrain-mlogloss:0.00533\n",
      "[34]\ttrain-mlogloss:0.00487\n",
      "[35]\ttrain-mlogloss:0.00448\n",
      "[36]\ttrain-mlogloss:0.00414\n",
      "[37]\ttrain-mlogloss:0.00384\n",
      "[38]\ttrain-mlogloss:0.00357\n",
      "[39]\ttrain-mlogloss:0.00334\n",
      "[40]\ttrain-mlogloss:0.00312\n",
      "[41]\ttrain-mlogloss:0.00296\n",
      "[42]\ttrain-mlogloss:0.00281\n",
      "[43]\ttrain-mlogloss:0.00265\n",
      "[44]\ttrain-mlogloss:0.00251\n",
      "[45]\ttrain-mlogloss:0.00239\n",
      "[46]\ttrain-mlogloss:0.00228\n",
      "[47]\ttrain-mlogloss:0.00218\n",
      "[48]\ttrain-mlogloss:0.00209\n",
      "[49]\ttrain-mlogloss:0.00202\n",
      "[50]\ttrain-mlogloss:0.00195\n",
      "[51]\ttrain-mlogloss:0.00189\n",
      "[52]\ttrain-mlogloss:0.00183\n",
      "[53]\ttrain-mlogloss:0.00178\n",
      "[54]\ttrain-mlogloss:0.00173\n",
      "[55]\ttrain-mlogloss:0.00167\n",
      "[56]\ttrain-mlogloss:0.00163\n",
      "[57]\ttrain-mlogloss:0.00159\n",
      "[58]\ttrain-mlogloss:0.00155\n",
      "[59]\ttrain-mlogloss:0.00152\n",
      "[60]\ttrain-mlogloss:0.00149\n",
      "[61]\ttrain-mlogloss:0.00146\n",
      "[62]\ttrain-mlogloss:0.00143\n",
      "[63]\ttrain-mlogloss:0.00141\n",
      "[64]\ttrain-mlogloss:0.00138\n",
      "[65]\ttrain-mlogloss:0.00135\n",
      "[66]\ttrain-mlogloss:0.00133\n",
      "[67]\ttrain-mlogloss:0.00131\n",
      "[68]\ttrain-mlogloss:0.00129\n",
      "[69]\ttrain-mlogloss:0.00127\n",
      "[70]\ttrain-mlogloss:0.00125\n",
      "[71]\ttrain-mlogloss:0.00123\n",
      "[72]\ttrain-mlogloss:0.00121\n",
      "[73]\ttrain-mlogloss:0.00120\n",
      "[74]\ttrain-mlogloss:0.00118\n",
      "[75]\ttrain-mlogloss:0.00116\n",
      "[76]\ttrain-mlogloss:0.00115\n",
      "[77]\ttrain-mlogloss:0.00113\n",
      "[78]\ttrain-mlogloss:0.00112\n",
      "[79]\ttrain-mlogloss:0.00111\n",
      "[80]\ttrain-mlogloss:0.00109\n",
      "[81]\ttrain-mlogloss:0.00108\n",
      "[82]\ttrain-mlogloss:0.00107\n",
      "[83]\ttrain-mlogloss:0.00105\n",
      "[84]\ttrain-mlogloss:0.00104\n",
      "[85]\ttrain-mlogloss:0.00103\n",
      "[86]\ttrain-mlogloss:0.00102\n",
      "[87]\ttrain-mlogloss:0.00101\n",
      "[88]\ttrain-mlogloss:0.00100\n",
      "[89]\ttrain-mlogloss:0.00099\n",
      "[90]\ttrain-mlogloss:0.00098\n",
      "[91]\ttrain-mlogloss:0.00097\n",
      "[92]\ttrain-mlogloss:0.00097\n",
      "[93]\ttrain-mlogloss:0.00096\n",
      "[94]\ttrain-mlogloss:0.00095\n",
      "[95]\ttrain-mlogloss:0.00094\n",
      "[96]\ttrain-mlogloss:0.00094\n",
      "[97]\ttrain-mlogloss:0.00093\n",
      "[98]\ttrain-mlogloss:0.00092\n",
      "[99]\ttrain-mlogloss:0.00092\n",
      "Old Model Accuracy on New Data (no training): 0.9928888888888889\n",
      "              precision    recall  f1-score   support\n",
      "\n",
      "      BENIGN       0.98      0.99      0.98       225\n",
      "        DDoS       1.00      0.99      1.00       221\n",
      "         DoS       0.99      0.99      0.99       232\n",
      "   Port Scan       1.00      0.99      0.99       209\n",
      "   Web Attck       1.00      1.00      1.00       238\n",
      "\n",
      "    accuracy                           0.99      1125\n",
      "   macro avg       0.99      0.99      0.99      1125\n",
      "weighted avg       0.99      0.99      0.99      1125\n",
      "\n",
      "[0]\ttrain-mlogloss:0.03146\n",
      "[1]\ttrain-mlogloss:0.02944\n",
      "[2]\ttrain-mlogloss:0.02777\n",
      "[3]\ttrain-mlogloss:0.02642\n",
      "[4]\ttrain-mlogloss:0.02545\n",
      "[5]\ttrain-mlogloss:0.02451\n",
      "[6]\ttrain-mlogloss:0.02364\n",
      "[7]\ttrain-mlogloss:0.02300\n",
      "[8]\ttrain-mlogloss:0.02243\n",
      "[9]\ttrain-mlogloss:0.02181\n",
      "[10]\ttrain-mlogloss:0.02132\n",
      "[11]\ttrain-mlogloss:0.02087\n",
      "[12]\ttrain-mlogloss:0.02045\n",
      "[13]\ttrain-mlogloss:0.02003\n",
      "[14]\ttrain-mlogloss:0.01961\n",
      "[15]\ttrain-mlogloss:0.01914\n",
      "[16]\ttrain-mlogloss:0.01877\n",
      "[17]\ttrain-mlogloss:0.01840\n",
      "[18]\ttrain-mlogloss:0.01805\n",
      "[19]\ttrain-mlogloss:0.01766\n",
      "[20]\ttrain-mlogloss:0.01729\n",
      "[21]\ttrain-mlogloss:0.01696\n",
      "[22]\ttrain-mlogloss:0.01663\n",
      "[23]\ttrain-mlogloss:0.01628\n",
      "[24]\ttrain-mlogloss:0.01594\n",
      "[25]\ttrain-mlogloss:0.01560\n",
      "[26]\ttrain-mlogloss:0.01529\n",
      "[27]\ttrain-mlogloss:0.01498\n",
      "[28]\ttrain-mlogloss:0.01460\n",
      "[29]\ttrain-mlogloss:0.01425\n",
      "[30]\ttrain-mlogloss:0.01393\n",
      "[31]\ttrain-mlogloss:0.01364\n",
      "[32]\ttrain-mlogloss:0.01336\n",
      "[33]\ttrain-mlogloss:0.01308\n",
      "[34]\ttrain-mlogloss:0.01282\n",
      "[35]\ttrain-mlogloss:0.01258\n",
      "[36]\ttrain-mlogloss:0.01232\n",
      "[37]\ttrain-mlogloss:0.01207\n",
      "[38]\ttrain-mlogloss:0.01184\n",
      "[39]\ttrain-mlogloss:0.01160\n",
      "[40]\ttrain-mlogloss:0.01137\n",
      "[41]\ttrain-mlogloss:0.01089\n",
      "[42]\ttrain-mlogloss:0.01047\n",
      "[43]\ttrain-mlogloss:0.01011\n",
      "[44]\ttrain-mlogloss:0.00978\n",
      "[45]\ttrain-mlogloss:0.00949\n",
      "[46]\ttrain-mlogloss:0.00923\n",
      "[47]\ttrain-mlogloss:0.00899\n",
      "[48]\ttrain-mlogloss:0.00877\n",
      "[49]\ttrain-mlogloss:0.00840\n",
      "[50]\ttrain-mlogloss:0.00807\n",
      "[51]\ttrain-mlogloss:0.00774\n",
      "[52]\ttrain-mlogloss:0.00743\n",
      "[53]\ttrain-mlogloss:0.00715\n",
      "[54]\ttrain-mlogloss:0.00689\n",
      "[55]\ttrain-mlogloss:0.00666\n",
      "[56]\ttrain-mlogloss:0.00642\n",
      "[57]\ttrain-mlogloss:0.00623\n",
      "[58]\ttrain-mlogloss:0.00603\n",
      "[59]\ttrain-mlogloss:0.00589\n",
      "[60]\ttrain-mlogloss:0.00581\n",
      "[61]\ttrain-mlogloss:0.00569\n",
      "[62]\ttrain-mlogloss:0.00561\n",
      "[63]\ttrain-mlogloss:0.00555\n",
      "[64]\ttrain-mlogloss:0.00544\n",
      "[65]\ttrain-mlogloss:0.00538\n",
      "[66]\ttrain-mlogloss:0.00531\n",
      "[67]\ttrain-mlogloss:0.00526\n",
      "[68]\ttrain-mlogloss:0.00519\n",
      "[69]\ttrain-mlogloss:0.00508\n",
      "[70]\ttrain-mlogloss:0.00502\n",
      "[71]\ttrain-mlogloss:0.00496\n",
      "[72]\ttrain-mlogloss:0.00489\n",
      "[73]\ttrain-mlogloss:0.00482\n",
      "[74]\ttrain-mlogloss:0.00475\n",
      "[75]\ttrain-mlogloss:0.00464\n",
      "[76]\ttrain-mlogloss:0.00458\n",
      "[77]\ttrain-mlogloss:0.00446\n",
      "[78]\ttrain-mlogloss:0.00440\n",
      "[79]\ttrain-mlogloss:0.00430\n",
      "[80]\ttrain-mlogloss:0.00420\n",
      "[81]\ttrain-mlogloss:0.00411\n",
      "[82]\ttrain-mlogloss:0.00401\n",
      "[83]\ttrain-mlogloss:0.00391\n",
      "[84]\ttrain-mlogloss:0.00383\n",
      "[85]\ttrain-mlogloss:0.00375\n",
      "[86]\ttrain-mlogloss:0.00368\n",
      "[87]\ttrain-mlogloss:0.00362\n",
      "[88]\ttrain-mlogloss:0.00356\n",
      "[89]\ttrain-mlogloss:0.00350\n",
      "[90]\ttrain-mlogloss:0.00345\n",
      "[91]\ttrain-mlogloss:0.00338\n",
      "[92]\ttrain-mlogloss:0.00332\n",
      "[93]\ttrain-mlogloss:0.00326\n",
      "[94]\ttrain-mlogloss:0.00321\n",
      "[95]\ttrain-mlogloss:0.00316\n",
      "[96]\ttrain-mlogloss:0.00312\n",
      "[97]\ttrain-mlogloss:0.00308\n",
      "[98]\ttrain-mlogloss:0.00304\n",
      "[99]\ttrain-mlogloss:0.00300\n"
     ]
    }
   ],
   "source": [
    "# === Parameters ===\n",
    "params = {\n",
    "    'objective': 'multi:softmax',\n",
    "    'num_class': len(le.classes_),\n",
    "    'max_depth': 5,\n",
    "    'eta': 0.2,\n",
    "    'gamma': 0,\n",
    "    'colsample_bytree': 0.85,\n",
    "    'subsample': 1,\n",
    "    'min_child_weight': 1,\n",
    "    'eval_metric': 'mlogloss',\n",
    "    'seed': 0\n",
    "}\n",
    "\n",
    "# === Train old model ===\n",
    "bst_old = xgb.train(\n",
    "    params=params,\n",
    "    dtrain=dtrain,\n",
    "    num_boost_round=100,\n",
    "    evals=[(dtrain, 'train')]\n",
    ")\n",
    "\n",
    "# === 1. Evaluate old model on the new data (without training on it) ===\n",
    "y_pred_old_on_new = bst_old.predict(dtrain_new).astype(int)\n",
    "acc_old_on_new = accuracy_score(y_train_new_encoded, y_pred_old_on_new)\n",
    "print(\"Old Model Accuracy on New Data (no training):\", acc_old_on_new)\n",
    "print(classification_report(y_train_new_encoded, y_pred_old_on_new, target_names=le.classes_))\n",
    "\n",
    "# === 2. Incrementally train the old model on the new data ===\n",
    "bst_new = xgb.train(\n",
    "    params=params,\n",
    "    dtrain=dtrain_new,\n",
    "    num_boost_round=100,\n",
    "    evals=[(dtrain_new, 'train')],\n",
    "    xgb_model=bst_old  # continue from old model\n",
    ")"
   ]
  },
  {
   "cell_type": "code",
   "execution_count": 45,
   "id": "50c79a98",
   "metadata": {},
   "outputs": [
    {
     "name": "stdout",
     "output_type": "stream",
     "text": [
      "New Model Accuracy on Test Data (after incremental training): 0.9898666666666667\n",
      "              precision    recall  f1-score   support\n",
      "\n",
      "      BENIGN       0.97      0.98      0.98       367\n",
      "        DDoS       1.00      1.00      1.00       419\n",
      "         DoS       0.98      0.99      0.98       358\n",
      "   Port Scan       1.00      0.98      0.99       387\n",
      "   Web Attck       1.00      1.00      1.00       344\n",
      "\n",
      "    accuracy                           0.99      1875\n",
      "   macro avg       0.99      0.99      0.99      1875\n",
      "weighted avg       0.99      0.99      0.99      1875\n",
      "\n",
      "--------------------------------------------------\n",
      "Old model on new data (without training): 0.9929\n",
      "Incrementally trained model on test set: 0.9899\n"
     ]
    }
   ],
   "source": [
    "# === Evaluate incrementally trained model on the same test set ===\n",
    "y_pred_new_on_test = bst_new.predict(dtest).astype(int)\n",
    "acc_new_on_test = accuracy_score(y_test_encoded, y_pred_new_on_test)\n",
    "print(\"New Model Accuracy on Test Data (after incremental training):\", acc_new_on_test)\n",
    "print(classification_report(y_test_encoded, y_pred_new_on_test, target_names=le.classes_))\n",
    "\n",
    "# === Comparison Summary ===\n",
    "print(\"--------------------------------------------------\")\n",
    "print(f\"Old model on new data (without training): {acc_old_on_new:.4f}\")\n",
    "print(f\"Incrementally trained model on test set: {acc_new_on_test:.4f}\")"
   ]
  },
  {
   "cell_type": "code",
   "execution_count": 47,
   "id": "9d0d87f0",
   "metadata": {},
   "outputs": [
    {
     "data": {
      "image/png": "[encoded data removed]",
      "text/plain": [
       "<Figure size 800x600 with 2 Axes>"
      ]
     },
     "metadata": {},
     "output_type": "display_data"
    },
    {
     "data": {
      "image/png": "[encoded data removed]",
      "text/plain": [
       "<Figure size 800x600 with 2 Axes>"
      ]
     },
     "metadata": {},
     "output_type": "display_data"
    }
   ],
   "source": [
    "import matplotlib.pyplot as plt\n",
    "import seaborn as sns\n",
    "from sklearn.metrics import confusion_matrix\n",
    "\n",
    "# === Confusion Matrix: Old Model on New Data ===\n",
    "cm_old = confusion_matrix(y_train_new_encoded, y_pred_old_on_new)\n",
    "plt.figure(figsize=(8,6))\n",
    "sns.heatmap(cm_old, annot=True, fmt='d', xticklabels=le.classes_, yticklabels=le.classes_, cmap=\"Blues\")\n",
    "plt.title(\"Confusion Matrix: Old Model on New Data\")\n",
    "plt.ylabel(\"True Labels\")\n",
    "plt.xlabel(\"Predicted Labels\")\n",
    "plt.show()\n",
    "\n",
    "# === Confusion Matrix: Incrementally Trained Model on Test Set ===\n",
    "cm_new = confusion_matrix(y_test_encoded, y_pred_new_on_test)\n",
    "plt.figure(figsize=(8,6))\n",
    "sns.heatmap(cm_new, annot=True, fmt='d', xticklabels=le.classes_, yticklabels=le.classes_, cmap=\"Greens\")\n",
    "plt.title(\"Confusion Matrix: Incrementally Trained Model on Test Data\")\n",
    "plt.ylabel(\"True Labels\")\n",
    "plt.xlabel(\"Predicted Labels\")\n",
    "plt.show()\n"
   ]
  },
  {
   "cell_type": "code",
   "execution_count": 48,
   "id": "542212ed",
   "metadata": {},
   "outputs": [
    {
     "data": {
      "text/plain": [
       "['pca.joblib']"
      ]
     },
     "execution_count": 48,
     "metadata": {},
     "output_type": "execute_result"
    }
   ],
   "source": [
    "import joblib\n",
    "\n",
    "\n",
    "joblib.dump(bst_new, \"xgb_incremental_model.joblib\")\n",
    "joblib.dump(scaler, 'scaler.joblib')\n",
    "joblib.dump(ipca, 'pca.joblib')\n"
   ]
  }
 ],
 "metadata": {
  "kernelspec": {
   "display_name": "Python 3",
   "language": "python",
   "name": "python3"
  },
  "language_info": {
   "codemirror_mode": {
    "name": "ipython",
    "version": 3
   },
   "file_extension": ".py",
   "mimetype": "text/x-python",
   "name": "python",
   "nbconvert_exporter": "python",
   "pygments_lexer": "ipython3",
   "version": "3.11.9"
  }
 },
 "nbformat": 4,
 "nbformat_minor": 5
}
